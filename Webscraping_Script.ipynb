{
 "cells": [
  {
   "cell_type": "code",
   "execution_count": 4,
   "metadata": {},
   "outputs": [],
   "source": [
    "#import request\n",
    "import requests as rq\n",
    "\n",
    "#enter our url\n",
    "url = \"https://www.robota.app/?toggle[categories]=false&page=1\"\n",
    "\n",
    "#use request to print out whats in the url\n",
    "r = rq.get(url)\n",
    "print(r.text)"
   ]
  },
  {
   "cell_type": "code",
   "execution_count": 6,
   "metadata": {},
   "outputs": [
    {
     "name": "stdout",
     "output_type": "stream",
     "text": [
      "Requirement already satisfied: beautifulsoup4 in c:\\users\\sierr\\appdata\\local\\programs\\python\\python310\\lib\\site-packages (4.12.0)\n",
      "Requirement already satisfied: soupsieve>1.2 in c:\\users\\sierr\\appdata\\local\\programs\\python\\python310\\lib\\site-packages (from beautifulsoup4) (2.4)\n",
      "Note: you may need to restart the kernel to use updated packages.\n"
     ]
    },
    {
     "name": "stderr",
     "output_type": "stream",
     "text": [
      "WARNING: You are using pip version 21.2.4; however, version 23.0.1 is available.\n",
      "You should consider upgrading via the 'c:\\Users\\Sierr\\AppData\\Local\\Programs\\Python\\Python310\\python.exe -m pip install --upgrade pip' command.\n"
     ]
    }
   ],
   "source": [
    "#install beautifulsoup4\n",
    "pip install -U beautifulsoup4"
   ]
  },
  {
   "cell_type": "code",
   "execution_count": 22,
   "metadata": {},
   "outputs": [
    {
     "name": "stdout",
     "output_type": "stream",
     "text": [
      "<a class=\"font-bold hover:underline group/link group-hover/post:text-blue-700\" href=\"https://boards.greenhouse.io/navtechnologies/jobs/4834890004\">Senior Software Engineer Remote within the US or In Office (PA, CA, UT)</a>\n"
     ]
    }
   ],
   "source": [
    "#print out all job titles\n",
    "import requests\n",
    "from bs4 import BeautifulSoup as bs\n",
    "url = 'https://www.robota.app/'\n",
    "r = requests.get(url)\n",
    "html_contents = r.text\n",
    "html_soup = bs(html_contents)\n",
    "\n",
    "#job titles in website has a class of \"font-bold hover:underline group/link group-hover/post:text-blue-700\"\n",
    "print(html_soup.find(\"a\", class_ = \"font-bold hover:underline group/link group-hover/post:text-blue-700\"))"
   ]
  },
  {
   "cell_type": "code",
   "execution_count": 36,
   "metadata": {},
   "outputs": [],
   "source": [
    "#go through the whole robota website\n",
    "#program will run from page 1 to 12442\n",
    "page = 1\n",
    "page_end = 100 # total pages 12442\n",
    "titles = []\n",
    "\n",
    "#will loop until it hit all the pages in the website\n",
    "while page != page_end:\n",
    "    url = f\"https://www.robota.app/?page={page}\"\n",
    "    response = rq.get(url)\n",
    "    html = response.content\n",
    "    soup = bs(html)\n",
    "\n",
    "    #find all job titles for each\n",
    "    for a in soup.find_all(\"a\", class_ = \"font-bold hover:underline group/link group-hover/post:text-blue-700\"):\n",
    "        titles.append(a.get_text(strip = True))\n",
    "\n",
    "    #continue to next page    \n",
    "    page = page + 1"
   ]
  },
  {
   "cell_type": "code",
   "execution_count": 37,
   "metadata": {},
   "outputs": [
    {
     "data": {
      "text/html": [
       "<div>\n",
       "<style scoped>\n",
       "    .dataframe tbody tr th:only-of-type {\n",
       "        vertical-align: middle;\n",
       "    }\n",
       "\n",
       "    .dataframe tbody tr th {\n",
       "        vertical-align: top;\n",
       "    }\n",
       "\n",
       "    .dataframe thead th {\n",
       "        text-align: right;\n",
       "    }\n",
       "</style>\n",
       "<table border=\"1\" class=\"dataframe\">\n",
       "  <thead>\n",
       "    <tr style=\"text-align: right;\">\n",
       "      <th></th>\n",
       "      <th>Job Title</th>\n",
       "    </tr>\n",
       "  </thead>\n",
       "  <tbody>\n",
       "    <tr>\n",
       "      <th>0</th>\n",
       "      <td>Senior Software Engineer Remote within the US ...</td>\n",
       "    </tr>\n",
       "    <tr>\n",
       "      <th>1</th>\n",
       "      <td>Program Manager - Remote</td>\n",
       "    </tr>\n",
       "    <tr>\n",
       "      <th>2</th>\n",
       "      <td>Subscriptions Operations Specialist</td>\n",
       "    </tr>\n",
       "    <tr>\n",
       "      <th>3</th>\n",
       "      <td>Working Student Design</td>\n",
       "    </tr>\n",
       "    <tr>\n",
       "      <th>4</th>\n",
       "      <td>Farming Production Technician</td>\n",
       "    </tr>\n",
       "    <tr>\n",
       "      <th>...</th>\n",
       "      <td>...</td>\n",
       "    </tr>\n",
       "    <tr>\n",
       "      <th>2470</th>\n",
       "      <td>Graduate Implementation Analyst (French Speaking)</td>\n",
       "    </tr>\n",
       "    <tr>\n",
       "      <th>2471</th>\n",
       "      <td>Financial Accountant</td>\n",
       "    </tr>\n",
       "    <tr>\n",
       "      <th>2472</th>\n",
       "      <td>Senior Backend Engineer</td>\n",
       "    </tr>\n",
       "    <tr>\n",
       "      <th>2473</th>\n",
       "      <td>CRM Ops Manager</td>\n",
       "    </tr>\n",
       "    <tr>\n",
       "      <th>2474</th>\n",
       "      <td>CRM Manager (Product Marketing)</td>\n",
       "    </tr>\n",
       "  </tbody>\n",
       "</table>\n",
       "<p>2475 rows × 1 columns</p>\n",
       "</div>"
      ],
      "text/plain": [
       "                                              Job Title\n",
       "0     Senior Software Engineer Remote within the US ...\n",
       "1                              Program Manager - Remote\n",
       "2                   Subscriptions Operations Specialist\n",
       "3                                Working Student Design\n",
       "4                         Farming Production Technician\n",
       "...                                                 ...\n",
       "2470  Graduate Implementation Analyst (French Speaking)\n",
       "2471                               Financial Accountant\n",
       "2472                            Senior Backend Engineer\n",
       "2473                                    CRM Ops Manager\n",
       "2474                    CRM Manager (Product Marketing)\n",
       "\n",
       "[2475 rows x 1 columns]"
      ]
     },
     "execution_count": 37,
     "metadata": {},
     "output_type": "execute_result"
    }
   ],
   "source": [
    "#turn list into data frame\n",
    "import pandas as pd\n",
    "df = pd.DataFrame(titles, columns = ['Job Title'])\n",
    "\n",
    "df"
   ]
  }
 ],
 "metadata": {
  "kernelspec": {
   "display_name": "Python 3",
   "language": "python",
   "name": "python3"
  },
  "language_info": {
   "codemirror_mode": {
    "name": "ipython",
    "version": 3
   },
   "file_extension": ".py",
   "mimetype": "text/x-python",
   "name": "python",
   "nbconvert_exporter": "python",
   "pygments_lexer": "ipython3",
   "version": "3.10.2"
  },
  "orig_nbformat": 4
 },
 "nbformat": 4,
 "nbformat_minor": 2
}
